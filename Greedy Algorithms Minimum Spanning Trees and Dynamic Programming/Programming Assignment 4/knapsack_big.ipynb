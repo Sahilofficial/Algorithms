{
 "cells": [
  {
   "cell_type": "markdown",
   "metadata": {
    "deletable": true,
    "editable": true
   },
   "source": [
    "# Knapsack Algorithm"
   ]
  },
  {
   "cell_type": "markdown",
   "metadata": {
    "deletable": true,
    "editable": true
   },
   "source": [
    "1 point\n",
    "2.This problem also asks you to solve a knapsack instance, but a much bigger one.\n",
    "\n",
    "Download the text file below.\n",
    "\n",
    "[knapsack_big.txt](https://github.com/SSQ/Coursera-Stanford-Greedy-Algorithms-Minimum-Spanning-Trees-and-Dynamic-Programming/blob/master/Programming%20Assignment%204/knapsack_big.txt)\n",
    "This file describes a knapsack instance, and it has the following format:\n",
    "\n",
    "[knapsack_size][number_of_items]\n",
    "\n",
    "[value_1] [weight_1]\n",
    "\n",
    "[value_2] [weight_2]\n",
    "\n",
    "...\n",
    "\n",
    "For example, the third line of the file is \"50074 834558\", indicating that the second item has value 50074 and size 834558, respectively. As before, you should assume that item weights and the knapsack capacity are integers.\n",
    "\n",
    "This instance is so big that the straightforward iterative implemetation uses an infeasible amount of time and space. So you will have to be creative to compute an optimal solution. One idea is to go back to a recursive implementation, solving subproblems --- and, of course, caching the results to avoid redundant work --- only on an \"as needed\" basis. Also, be sure to think about appropriate data structures for storing and looking up solutions to subproblems.\n",
    "\n",
    "In the box below, type in the value of the optimal solution.\n",
    "\n",
    "ADVICE: If you're not getting the correct answer, try debugging your algorithm using some small test cases. And then post them to the discussion forum!\n",
    "\n",
    "<input type=”text” placeholder=\"Enter answer here\">"
   ]
  },
  {
   "cell_type": "code",
   "execution_count": 1,
   "metadata": {
    "collapsed": true,
    "deletable": true,
    "editable": true
   },
   "outputs": [],
   "source": [
    "import numpy as np"
   ]
  },
  {
   "cell_type": "code",
   "execution_count": 2,
   "metadata": {
    "collapsed": true,
    "deletable": true,
    "editable": true
   },
   "outputs": [],
   "source": [
    "# get the file path\n",
    "file_path = 'knapsack_big.txt'\n",
    "# file_path = 'test 1.txt'\n",
    "# convert text file to np.array type\n",
    "knapsack_big_data = np.loadtxt(file_path)\n",
    "int_knapsack_big_data = knapsack_big_data.astype(long)"
   ]
  },
  {
   "cell_type": "code",
   "execution_count": 3,
   "metadata": {
    "collapsed": true,
    "deletable": true,
    "editable": true
   },
   "outputs": [],
   "source": [
    "knapsack_size = 2000000 \n",
    "items = 2000"
   ]
  },
  {
   "cell_type": "code",
   "execution_count": 6,
   "metadata": {
    "collapsed": true,
    "deletable": true,
    "editable": true
   },
   "outputs": [],
   "source": [
    "def Knapsack_simplify(int_knapsack1_data, items, knapsack_size):\n",
    "    A = np.zeros(shape=(2,knapsack_size+1))\n",
    "    for i in range(1,items+1):\n",
    "        for x in range(knapsack_size+1):\n",
    "            if int_knapsack1_data[i-1][1] > x:\n",
    "                A[1][x] = A[0][x]\n",
    "            else:\n",
    "                A[1][x] = max(A[0][x],A[0][x-int_knapsack1_data[i-1][1]]+int_knapsack1_data[i-1][0])\n",
    "        \n",
    "        A[0] = A[1]       \n",
    "        A[1] = np.zeros(shape=(1,knapsack_size+1))\n",
    "    return A[0][knapsack_size]"
   ]
  },
  {
   "cell_type": "code",
   "execution_count": 7,
   "metadata": {
    "collapsed": false,
    "deletable": true,
    "editable": true
   },
   "outputs": [
    {
     "name": "stdout",
     "output_type": "stream",
     "text": [
      "4243395.0\n",
      "Wall time: 3h 15min 40s\n"
     ]
    }
   ],
   "source": [
    "%%time\n",
    "print(Knapsack_simplify(int_knapsack_big_data, items, knapsack_size))"
   ]
  },
  {
   "cell_type": "markdown",
   "metadata": {
    "deletable": true,
    "editable": true
   },
   "source": [
    "# Question 2 Answer:"
   ]
  },
  {
   "cell_type": "markdown",
   "metadata": {
    "collapsed": true,
    "deletable": true,
    "editable": true
   },
   "source": [
    "4243395"
   ]
  }
 ],
 "metadata": {
  "anaconda-cloud": {},
  "kernelspec": {
   "display_name": "Python [conda env:DAND]",
   "language": "python",
   "name": "conda-env-DAND-py"
  },
  "language_info": {
   "codemirror_mode": {
    "name": "ipython",
    "version": 2
   },
   "file_extension": ".py",
   "mimetype": "text/x-python",
   "name": "python",
   "nbconvert_exporter": "python",
   "pygments_lexer": "ipython2",
   "version": "2.7.12"
  }
 },
 "nbformat": 4,
 "nbformat_minor": 2
}
