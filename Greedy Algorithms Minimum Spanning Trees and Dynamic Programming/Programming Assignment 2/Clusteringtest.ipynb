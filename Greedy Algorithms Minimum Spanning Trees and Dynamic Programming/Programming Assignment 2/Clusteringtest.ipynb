{
 "cells": [
  {
   "cell_type": "markdown",
   "metadata": {
    "deletable": true,
    "editable": true
   },
   "source": [
    "# Clustering 1"
   ]
  },
  {
   "cell_type": "markdown",
   "metadata": {
    "deletable": true,
    "editable": true
   },
   "source": [
    "1 point\n",
    "1.In this programming problem and the next you'll code up the clustering algorithm from lecture for computing a max-spacing k-clustering.\n",
    "\n",
    "Download the text file below.\n",
    "\n",
    "[clustering1.txt](https://d3c33hcgiwev3.cloudfront.net/_fe8d0202cd20a808db6a4d5d06be62f4_clustering1.txt?Expires=1501545600&Signature=CXDeXP4OyEgCos4pTCADKwX5wOUahg23xtVefKBK88DOVRwPEDLrvtcqdZSV5vR7kZXEi4NZl-WnCSYcG8CDoCKTXu17ESQg3YwocNokp-Ghfx3cSjW59Xu7LTyEwefRMnaDa225KQEIxfCItdsUKIpdm6MdGXCI3hRsS3oHJrY_&Key-Pair-Id=APKAJLTNE6QMUY6HBC5A)\n",
    "\n",
    "This file describes a distance function (equivalently, a complete graph with edge costs). It has the following format:\n",
    "\n",
    "[number_of_nodes]\n",
    "\n",
    "[edge 1 node 1] [edge 1 node 2] [edge 1 cost]\n",
    "\n",
    "[edge 2 node 1] [edge 2 node 2] [edge 2 cost]\n",
    "\n",
    "...\n",
    "\n",
    "There is one edge (i,j) for each choice of 1≤i<j≤n, where n is the number of nodes.\n",
    "\n",
    "For example, the third line of the file is \"1 3 5250\", indicating that the distance between nodes 1 and 3 (equivalently, the cost of the edge (1,3)) is 5250. You can assume that distances are positive, but you should NOT assume that they are distinct.\n",
    "\n",
    "Your task in this problem is to run the clustering algorithm from lecture on this data set, where the target number k of clusters is set to 4. What is the maximum spacing of a 4-clustering?\n",
    "\n",
    "ADVICE: If you're not getting the correct answer, try debugging your algorithm using some small test cases. And then post them to the discussion forum!\n",
    "\n",
    "\n",
    "<input type=”text” placeholder=\"Enter answer here\">"
   ]
  },
  {
   "cell_type": "code",
   "execution_count": 2,
   "metadata": {
    "collapsed": false,
    "deletable": true,
    "editable": true
   },
   "outputs": [
    {
     "name": "stdout",
     "output_type": "stream",
     "text": [
      "106\n"
     ]
    }
   ],
   "source": [
    "edges = [map(int, x.split(' ')) for x in open('clustering1.txt', 'r').read().split('\\n')[1:-1]]\n",
    "\n",
    "edges.sort(key=lambda x: x[2])\n",
    "\n",
    "vertices = {}\n",
    "for edge in edges:\n",
    "    vertices[edge[0]] = edge[0]\n",
    "    vertices[edge[1]] = edge[1]\n",
    "\n",
    "costs = {}\n",
    "for v in vertices:\n",
    "    costs[v] = 0\n",
    "\n",
    "cluster_count = len(vertices)\n",
    "\n",
    "for edge in edges:\n",
    "    head1 = vertices[edge[0]]\n",
    "    while vertices[head1] != head1:\n",
    "        head1 = vertices[head1] \n",
    "\n",
    "    head2 = vertices[edge[1]]\n",
    "    while vertices[head2] != head2:\n",
    "        head2 = vertices[head2] \n",
    "\n",
    "    if head1 != head2:\n",
    "        if cluster_count <= 4:\n",
    "            spacing_distance = edge[2]\n",
    "            break\n",
    "        vertices[head2] = head1\n",
    "        costs[head1] += (edge[2] + costs[head2])\n",
    "        cluster_count -= 1\n",
    "\n",
    "print spacing_distance"
   ]
  },
  {
   "cell_type": "markdown",
   "metadata": {
    "deletable": true,
    "editable": true
   },
   "source": [
    "# Cluster 2"
   ]
  },
  {
   "cell_type": "markdown",
   "metadata": {
    "deletable": true,
    "editable": true
   },
   "source": [
    "2.In this question your task is again to run the clustering algorithm from lecture, but on a MUCH bigger graph. So big, in fact, that the distances (i.e., edge costs) are only defined implicitly, rather than being provided as an explicit list.\n",
    "\n",
    "The data set is below.\n",
    "\n",
    "[clustering_big.txt](https://d3c33hcgiwev3.cloudfront.net/_fe8d0202cd20a808db6a4d5d06be62f4_clustering_big.txt?Expires=1501545600&Signature=e4BKpdJ5N-EbozWiesOYW-vIYX5pubto1uwsM81H-YNd9U4UYeuBvsym1fXtyEEP4HsJsjBF9lt4LZKeEoUWO67S6vP5sTCb~Hh19SftlLUqkoLACuKajwxFRnayu~ql55txkAi-CoLrk9ARBq3Q85MMG~zg5qum6-Xb3CIfwRE_&Key-Pair-Id=APKAJLTNE6QMUY6HBC5A)\n",
    "\n",
    "The format is:\n",
    "\n",
    "[# of nodes] [# of bits for each node's label]\n",
    "\n",
    "[first bit of node 1] ... [last bit of node 1]\n",
    "\n",
    "[first bit of node 2] ... [last bit of node 2]\n",
    "\n",
    "...\n",
    "\n",
    "For example, the third line of the file \"0 1 1 0 0 1 1 0 0 1 0 1 1 1 1 1 1 0 1 0 1 1 0 1\" denotes the 24 bits associated with node #2.\n",
    "\n",
    "The distance between two nodes u and v in this problem is defined as the Hamming distance--- the number of differing bits --- between the two nodes' labels. For example, the Hamming distance between the 24-bit label of node #2 above and the label \"0 1 0 0 0 1 0 0 0 1 0 1 1 1 1 1 1 0 1 0 0 1 0 1\" is 3 (since they differ in the 3rd, 7th, and 21st bits).\n",
    "\n",
    "The question is: what is the largest value of k such that there is a k-clustering with spacing at least 3? That is, how many clusters are needed to ensure that no pair of nodes with all but 2 bits in common get split into different clusters?\n",
    "\n",
    "NOTE: The graph implicitly defined by the data file is so big that you probably can't write it out explicitly, let alone sort the edges by cost. So you will have to be a little creative to complete this part of the question. For example, is there some way you can identify the smallest distances without explicitly looking at every pair of nodes?\n",
    "\n",
    "\n",
    "<input type=”text” placeholder=\"Enter answer here\">"
   ]
  },
  {
   "cell_type": "code",
   "execution_count": 1,
   "metadata": {
    "collapsed": false,
    "deletable": true,
    "editable": true
   },
   "outputs": [
    {
     "name": "stdout",
     "output_type": "stream",
     "text": [
      "6118\n"
     ]
    }
   ],
   "source": [
    "vertices = [\"\".join(x.split(' ')) for x in open('clustering_big.txt', 'r').read().split('\\n')[1:-1]]\n",
    "\n",
    "def invert(bit):\n",
    "    if bit != '0' and bit != '1':\n",
    "        raise ValueError\n",
    "    return '1' if bit == '0' else '0'\n",
    "\n",
    "def similar(v):\n",
    "    out = []\n",
    "    for i in range(len(v)):\n",
    "        out.append(v[:i]+invert(v[i]) + v[i+1:])\n",
    "        for j in range(i+1, len(v)):\n",
    "            out.append(v[:i]+invert(v[i])+v[i+1:j]+invert(v[j])+v[j+1:])\n",
    "    return out\n",
    " \n",
    "heads = {}\n",
    "for v in vertices:\n",
    "    heads[v] = v\n",
    "clusters = len(heads) \n",
    "#print clusters\n",
    "for v in vertices:\n",
    "    v_head = heads[v]\n",
    "    while heads[v_head] != v_head:\n",
    "        v_head = heads[v_head]\n",
    "\n",
    "    for friend in similar(v):\n",
    "        if heads.get(friend):\n",
    "            head = heads[friend]\n",
    "            while heads[head] != head:\n",
    "                head = heads[head]\n",
    "            if v_head != head:\n",
    "                heads[head] = v_head\n",
    "                clusters -= 1\n",
    "print clusters"
   ]
  },
  {
   "cell_type": "code",
   "execution_count": null,
   "metadata": {
    "collapsed": true
   },
   "outputs": [],
   "source": []
  }
 ],
 "metadata": {
  "anaconda-cloud": {},
  "kernelspec": {
   "display_name": "Python [conda env:DAND]",
   "language": "python",
   "name": "conda-env-DAND-py"
  },
  "language_info": {
   "codemirror_mode": {
    "name": "ipython",
    "version": 2
   },
   "file_extension": ".py",
   "mimetype": "text/x-python",
   "name": "python",
   "nbconvert_exporter": "python",
   "pygments_lexer": "ipython2",
   "version": "2.7.12"
  }
 },
 "nbformat": 4,
 "nbformat_minor": 2
}
