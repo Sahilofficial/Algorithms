{
 "cells": [
  {
   "cell_type": "markdown",
   "metadata": {
    "deletable": true,
    "editable": true
   },
   "source": [
    "# Huffman Coding"
   ]
  },
  {
   "cell_type": "markdown",
   "metadata": {
    "deletable": true,
    "editable": true
   },
   "source": [
    "1 point\n",
    "\n",
    "1.In this programming problem and the next you'll code up the greedy algorithm from the lectures on Huffman coding.\n",
    "\n",
    "Download the text file below.\n",
    "\n",
    "[huffman.txt](https://github.com/SSQ/Coursera-Stanford-Greedy-Algorithms-Minimum-Spanning-Trees-and-Dynamic-Programming/blob/master/Programming%20Assignment%203/huffman.txt)\n",
    "This file describes an instance of the problem. It has the following format:\n",
    "\n",
    "[number_of_symbols]\n",
    "\n",
    "[weight of symbol #1]\n",
    "\n",
    "[weight of symbol #2]\n",
    "\n",
    "...\n",
    "\n",
    "For example, the third line of the file is \"6852892,\" indicating that the weight of the second symbol of the alphabet is 6852892. (We're using weights instead of frequencies, like in the \"A More Complex Example\" video.)\n",
    "\n",
    "Your task in this problem is to run the Huffman coding algorithm from lecture on this data set. What is the maximum length of a codeword in the resulting Huffman code?\n",
    "\n",
    "ADVICE: If you're not getting the correct answer, try debugging your algorithm using some small test cases. And then post them to the discussion forum!\n",
    "\n",
    "\n",
    "<input type=”text” placeholder=\"Enter answer here\">\n",
    "<br>"
   ]
  },
  {
   "cell_type": "code",
   "execution_count": 1,
   "metadata": {
    "collapsed": true,
    "deletable": true,
    "editable": true
   },
   "outputs": [],
   "source": [
    "import pandas as pd\n",
    "import numpy as np\n",
    "import time"
   ]
  },
  {
   "cell_type": "code",
   "execution_count": 2,
   "metadata": {
    "collapsed": false,
    "deletable": true,
    "editable": true
   },
   "outputs": [
    {
     "name": "stdout",
     "output_type": "stream",
     "text": [
      "int_huffman_data[:3]: \n",
      "[7540662 6852892 3235725]\n"
     ]
    }
   ],
   "source": [
    "# get the file path\n",
    "file_path = 'huffman.txt'\n",
    "# file_path = 'test 1.txt'\n",
    "# convert text file to np.array type\n",
    "huffman_data = np.loadtxt(file_path)\n",
    "int_huffman_data = huffman_data.astype(int)\n",
    "\n",
    "# test np.loadtxt()\n",
    "print('int_huffman_data[:3]: ')\n",
    "print(int_huffman_data[:3])"
   ]
  },
  {
   "cell_type": "code",
   "execution_count": 3,
   "metadata": {
    "collapsed": false,
    "deletable": true,
    "editable": true
   },
   "outputs": [
    {
     "name": "stdout",
     "output_type": "stream",
     "text": [
      "sorted successfully\n"
     ]
    }
   ],
   "source": [
    "# test sort the weights inscreasing order\n",
    "sorted_data = np.sort(int_huffman_data)\n",
    "sorted_index = np.argsort(int_huffman_data) \n",
    "\n",
    "# test np.sort() and np.argsort()\n",
    "for i in range(len(sorted_data)):\n",
    "    if sorted_data[i] != [int_huffman_data[x] for x in sorted_index][i]:\n",
    "        print(\"sorted failed\")\n",
    "        break\n",
    "print(\"sorted successfully\")"
   ]
  },
  {
   "cell_type": "code",
   "execution_count": 4,
   "metadata": {
    "collapsed": false,
    "deletable": true,
    "editable": true
   },
   "outputs": [
    {
     "name": "stdout",
     "output_type": "stream",
     "text": [
      "[ 1873 12710 37164 40882 57802 61282 64537 70116 83429 90939]\n",
      "[9879636 9879739 9889780 9911792 9916957 9933557 9959436 9968891 9978358\n",
      " 9979223]\n",
      "[ 37164  40882  57802  61282  64537  70116  83429  90939  97421 107416]\n",
      "[9879739 9889780 9911792 9916957 9933557 9959436 9968891 9978358 9979223\n",
      "   14583]\n"
     ]
    }
   ],
   "source": [
    "# test np.append() and np.delete\n",
    "\n",
    "print(sorted_data[:10])\n",
    "print(sorted_data[-10:])\n",
    "\n",
    "sorted_data = np.append(sorted_data, sorted_data[0] + sorted_data[1])\n",
    "\n",
    "sorted_data = np.delete(sorted_data, [0, 1])\n",
    "\n",
    "print(sorted_data[:10])\n",
    "print(sorted_data[-10:])"
   ]
  },
  {
   "cell_type": "code",
   "execution_count": 5,
   "metadata": {
    "collapsed": false,
    "deletable": true,
    "editable": true
   },
   "outputs": [
    {
     "name": "stdout",
     "output_type": "stream",
     "text": [
      "[471 798 752 448 554 867 356 957 598 382]\n",
      "[701 773 430 896 876 105  33 780 514 342]\n",
      "[752 448 554 867 356 957 598 382 210 538]\n",
      "[701 773 430 896 876 105  33 780 514 342]\n"
     ]
    }
   ],
   "source": [
    "# test np.delete\n",
    "print(sorted_index[:10])\n",
    "print(sorted_index[-10:])\n",
    "\n",
    "sorted_index = np.delete(sorted_index, [0, 1])\n",
    "\n",
    "print(sorted_index[:10])\n",
    "print(sorted_index[-10:])"
   ]
  },
  {
   "cell_type": "code",
   "execution_count": 51,
   "metadata": {
    "collapsed": false,
    "deletable": true,
    "editable": true
   },
   "outputs": [
    {
     "name": "stdout",
     "output_type": "stream",
     "text": [
      "int_huffman_data[0]: \n",
      "7540662\n",
      "sorted(test_data)[0] + sorted(test_data)[1]: \n",
      "14583\n",
      "test_data[sorted_test[0]]: \n",
      "[471]\n",
      "test_data[sorted_test[1]]: \n",
      "[798]\n",
      "sorted(test_data)[0] + sorted(test_data)[1]: \n",
      "14583\n",
      "test_data[sorted_test[0]+sorted_test[1]]: \n",
      "[[471], [798]]\n",
      "len(test_data[sorted_test[0]+sorted_test[1]]): \n",
      "2\n",
      "check exist: \n",
      "False\n",
      "check exist: \n",
      "False\n",
      "Value : [[0, [2, 1]], 99]\n",
      "Value : [0, [2, 1]]\n",
      "Key : [100000, 99]\n",
      "Key : 100000\n",
      "Value : [[0, 3], [2, 1]]\n"
     ]
    }
   ],
   "source": [
    "# test opertaions\n",
    "\n",
    "test_data={}\n",
    "for i in range(len(int_huffman_data)):\n",
    "    test_data[int_huffman_data[i]] = [i]\n",
    "#print(test_data)\n",
    "print('int_huffman_data[0]: ')\n",
    "print(int_huffman_data[0])\n",
    "\n",
    "# print(sorted(test_data))\n",
    "print('sorted(test_data)[0] + sorted(test_data)[1]: ')\n",
    "print(sorted(test_data)[0] + sorted(test_data)[1])\n",
    "\n",
    "sorted_test = sorted(test_data)\n",
    "\n",
    "test_data[sorted_test[0]+sorted_test[1]] = [test_data[sorted_test[0]], test_data[sorted_test[1]]]\n",
    "\n",
    "print('test_data[sorted_test[0]]: ')\n",
    "print(test_data[sorted_test[0]])\n",
    "\n",
    "print('test_data[sorted_test[1]]: ')\n",
    "print(test_data[sorted_test[1]])\n",
    "\n",
    "print('sorted(test_data)[0] + sorted(test_data)[1]: ')\n",
    "print(sorted(test_data)[0] + sorted(test_data)[1])\n",
    "\n",
    "print('test_data[sorted_test[0]+sorted_test[1]]: ')\n",
    "print(test_data[sorted_test[0]+sorted_test[1]])\n",
    "\n",
    "print('len(test_data[sorted_test[0]+sorted_test[1]]): ')\n",
    "print(len(test_data[sorted_test[0]+sorted_test[1]]))\n",
    "\n",
    "del test_data[sorted_test[0]]\n",
    "del test_data[sorted_test[1]]\n",
    "\n",
    "print('check exist: ')\n",
    "print(sorted_test[0] in test_data.keys())\n",
    "\n",
    "print('check exist: ')\n",
    "print(sorted_test[1] in test_data.keys())\n",
    "\n",
    "test_dict = {100000: [0,[2,1]],99: 99}\n",
    "print(\"Value : %s\" %  test_dict.values())\n",
    "print(\"Value : %s\" %  test_dict.values()[0])\n",
    "print(\"Key : %s\" %  test_dict.keys())\n",
    "print(\"Key : %s\" %  test_dict.keys()[0])\n",
    "\n",
    "test_dict = {100000: [[0,3],[2,1]]}\n",
    "print(\"Value : %s\" %  test_dict.values()[0])\n",
    "\n",
    "\n"
   ]
  },
  {
   "cell_type": "code",
   "execution_count": 53,
   "metadata": {
    "collapsed": false,
    "deletable": true,
    "editable": true
   },
   "outputs": [
    {
     "name": "stdout",
     "output_type": "stream",
     "text": [
      "mergered length: \n",
      "2\n"
     ]
    }
   ],
   "source": [
    "# weightposition = {weight0: position0, weight1: position1, weight2: position2, ...}\n",
    "WeightPosition={}\n",
    "for i in range(len(int_huffman_data)):\n",
    "    # adding int() to avoid \"RuntimeWarning: overflow encountered in long_scalars\"\n",
    "    WeightPosition[int(int_huffman_data[i])] = [int(i)]\n",
    "\n",
    "# input:\n",
    "#     dictionary. i.e. WeightPosition = {weight0: position0, weight1: position1, weight2: position2, ...}.\n",
    "# output:\n",
    "#     array. i.e. WeightPosition.values()[0]\n",
    "# function:\n",
    "#     merge two smallest weights to a binary tree\n",
    "def merger(WeightPosition):\n",
    "    while len(WeightPosition) > 1:\n",
    "        sorted_weight = sorted(WeightPosition) # return an array of sorted (weight)keys in dictionay WeightPosition\n",
    "        \n",
    "        # weightposition = { (weight0 + weight1) : [position0, position1], weight0: position0, weight1: position1, weight2: position2, ...}\n",
    "        WeightPosition[sorted_weight[0]+sorted_weight[1]] = [WeightPosition[sorted_weight[0]], WeightPosition[sorted_weight[1]]]\n",
    "\n",
    "        # weightposition = { (weight0 + weight1) : [position0, position1], weight2: position2, ...}\n",
    "        del WeightPosition[sorted_weight[0]]\n",
    "        del WeightPosition[sorted_weight[1]]\n",
    "        \n",
    "    return WeightPosition.values()[0] # only 1 value\n",
    "\n",
    "mergered = merger(WeightPosition)\n",
    "print(\"mergered length: \")\n",
    "print(len(mergered))"
   ]
  },
  {
   "cell_type": "code",
   "execution_count": 64,
   "metadata": {
    "collapsed": false
   },
   "outputs": [
    {
     "ename": "TypeError",
     "evalue": "unhashable type: 'list'",
     "output_type": "error",
     "traceback": [
      "\u001b[0;31m---------------------------------------------------------------------------\u001b[0m",
      "\u001b[0;31mTypeError\u001b[0m                                 Traceback (most recent call last)",
      "\u001b[0;32m<ipython-input-64-d3c59e406f60>\u001b[0m in \u001b[0;36m<module>\u001b[0;34m()\u001b[0m\n\u001b[1;32m      1\u001b[0m \u001b[1;31m# test\u001b[0m\u001b[1;33m\u001b[0m\u001b[1;33m\u001b[0m\u001b[0m\n\u001b[0;32m----> 2\u001b[0;31m \u001b[0mtest_dict2\u001b[0m \u001b[1;33m=\u001b[0m \u001b[1;33m{\u001b[0m\u001b[1;33m[\u001b[0m\u001b[1;33m[\u001b[0m\u001b[1;36m2\u001b[0m\u001b[1;33m]\u001b[0m\u001b[1;33m,\u001b[0m\u001b[1;33m[\u001b[0m\u001b[1;36m3\u001b[0m\u001b[1;33m]\u001b[0m\u001b[1;33m]\u001b[0m\u001b[1;33m:\u001b[0m \u001b[1;33m[\u001b[0m\u001b[1;36m0\u001b[0m\u001b[1;33m]\u001b[0m\u001b[1;33m,\u001b[0m \u001b[1;33m[\u001b[0m\u001b[1;33m[\u001b[0m\u001b[1;36m3\u001b[0m\u001b[1;33m]\u001b[0m\u001b[1;33m,\u001b[0m\u001b[1;33m[\u001b[0m\u001b[1;36m5\u001b[0m\u001b[1;33m]\u001b[0m\u001b[1;33m]\u001b[0m\u001b[1;33m:\u001b[0m \u001b[1;33m[\u001b[0m\u001b[1;36m1\u001b[0m\u001b[1;33m]\u001b[0m\u001b[1;33m}\u001b[0m\u001b[1;33m\u001b[0m\u001b[0m\n\u001b[0m\u001b[1;32m      3\u001b[0m \u001b[1;32mfor\u001b[0m \u001b[0mi\u001b[0m\u001b[1;33m,\u001b[0m \u001b[0mj\u001b[0m \u001b[1;32min\u001b[0m \u001b[0menumerate\u001b[0m\u001b[1;33m(\u001b[0m\u001b[0mtest_dict2\u001b[0m\u001b[1;33m)\u001b[0m\u001b[1;33m:\u001b[0m\u001b[1;33m\u001b[0m\u001b[0m\n\u001b[1;32m      4\u001b[0m     \u001b[0mtest_dict2\u001b[0m\u001b[1;33m[\u001b[0m\u001b[0mi\u001b[0m\u001b[1;33m[\u001b[0m\u001b[1;36m0\u001b[0m\u001b[1;33m]\u001b[0m\u001b[1;33m]\u001b[0m \u001b[1;33m=\u001b[0m \u001b[0mj\u001b[0m\u001b[1;33m.\u001b[0m\u001b[0mextend\u001b[0m\u001b[1;33m(\u001b[0m\u001b[1;33m[\u001b[0m\u001b[1;36m0\u001b[0m\u001b[1;33m]\u001b[0m\u001b[1;33m)\u001b[0m\u001b[1;33m\u001b[0m\u001b[0m\n\u001b[1;32m      5\u001b[0m     \u001b[0mtest_dict2\u001b[0m\u001b[1;33m[\u001b[0m\u001b[0mi\u001b[0m\u001b[1;33m[\u001b[0m\u001b[1;36m1\u001b[0m\u001b[1;33m]\u001b[0m\u001b[1;33m]\u001b[0m \u001b[1;33m=\u001b[0m \u001b[0mj\u001b[0m\u001b[1;33m.\u001b[0m\u001b[0mextend\u001b[0m\u001b[1;33m(\u001b[0m\u001b[1;33m[\u001b[0m\u001b[1;36m1\u001b[0m\u001b[1;33m]\u001b[0m\u001b[1;33m)\u001b[0m\u001b[1;33m\u001b[0m\u001b[0m\n",
      "\u001b[0;31mTypeError\u001b[0m: unhashable type: 'list'"
     ]
    }
   ],
   "source": [
    "# test \n",
    "test_dict2 = {[[2],[3]]: [0], [[3],[5]]: [1]}\n",
    "for i, j in enumerate(test_dict2):\n",
    "    test_dict2[i[0]] = j.extend([0])\n",
    "    test_dict2[i[1]] = j.extend([1])\n",
    "print(test_dict2)"
   ]
  },
  {
   "cell_type": "code",
   "execution_count": 66,
   "metadata": {
    "collapsed": false
   },
   "outputs": [
    {
     "name": "stdout",
     "output_type": "stream",
     "text": [
      "3\n"
     ]
    }
   ],
   "source": [
    "# test\n",
    "def test_func(a):\n",
    "    return a\n",
    "test_array = [1,2,3]\n",
    "print(max(test_func(x) for x in test_array))"
   ]
  },
  {
   "cell_type": "code",
   "execution_count": 67,
   "metadata": {
    "collapsed": true
   },
   "outputs": [],
   "source": [
    "# calculate the max_deep and min_deep of the tree\n",
    "def min_depth(mergered):\n",
    "    if len(mergered) == 1:\n",
    "        return 0\n",
    "    return 1 + min(min_depth(x) for x in mergered)\n",
    "\n",
    "def max_depth(mergered):\n",
    "    if len(mergered) == 1:\n",
    "        return 0\n",
    "    return 1 + max(max_depth(x) for x in mergered)"
   ]
  },
  {
   "cell_type": "code",
   "execution_count": 68,
   "metadata": {
    "collapsed": false
   },
   "outputs": [
    {
     "name": "stdout",
     "output_type": "stream",
     "text": [
      "code_max_length: \n",
      "19\n",
      "code_min_length: \n",
      "9\n"
     ]
    }
   ],
   "source": [
    "# get the answer\n",
    "code_max_length = max_depth(mergered)\n",
    "print('code_max_length: ')\n",
    "print(code_max_length)\n",
    "\n",
    "code_min_length = min_depth(mergered)\n",
    "print('code_min_length: ')\n",
    "print(code_min_length)"
   ]
  },
  {
   "cell_type": "markdown",
   "metadata": {},
   "source": [
    "# Question 1 answer"
   ]
  },
  {
   "cell_type": "markdown",
   "metadata": {},
   "source": [
    "19"
   ]
  },
  {
   "cell_type": "markdown",
   "metadata": {
    "deletable": true,
    "editable": true
   },
   "source": [
    "1 point\n",
    "2.Continuing the previous problem, what is the minimum length of a codeword in your Huffman code?\n",
    "\n",
    "<input type=”text” placeholder=\"Enter answer here\">\n",
    "<br>"
   ]
  },
  {
   "cell_type": "markdown",
   "metadata": {
    "collapsed": true,
    "deletable": true,
    "editable": true
   },
   "source": [
    "# Question 2 answer"
   ]
  },
  {
   "cell_type": "markdown",
   "metadata": {},
   "source": [
    "9"
   ]
  }
 ],
 "metadata": {
  "anaconda-cloud": {},
  "kernelspec": {
   "display_name": "Python [conda env:DAND]",
   "language": "python",
   "name": "conda-env-DAND-py"
  },
  "language_info": {
   "codemirror_mode": {
    "name": "ipython",
    "version": 2
   },
   "file_extension": ".py",
   "mimetype": "text/x-python",
   "name": "python",
   "nbconvert_exporter": "python",
   "pygments_lexer": "ipython2",
   "version": "2.7.12"
  }
 },
 "nbformat": 4,
 "nbformat_minor": 2
}
